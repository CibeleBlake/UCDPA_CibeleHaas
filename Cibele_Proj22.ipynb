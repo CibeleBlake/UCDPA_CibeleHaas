{
 "cells": [
  {
   "cell_type": "code",
   "execution_count": 1,
   "id": "a3ad7c3f-a4b6-4ef1-b955-c701382e53bc",
   "metadata": {},
   "outputs": [
    {
     "data": {
      "text/plain": [
       "'this is my new project'"
      ]
     },
     "execution_count": 1,
     "metadata": {},
     "output_type": "execute_result"
    }
   ],
   "source": [
    "\"this is my new project\""
   ]
  },
  {
   "cell_type": "code",
   "execution_count": 2,
   "id": "8da6430f-f7d9-4f1d-9b2b-d465efde2c01",
   "metadata": {},
   "outputs": [
    {
     "data": {
      "text/plain": [
       "'Second line of code'"
      ]
     },
     "execution_count": 2,
     "metadata": {},
     "output_type": "execute_result"
    }
   ],
   "source": [
    "\"Second line of code\""
   ]
  },
  {
   "cell_type": "code",
   "execution_count": null,
   "id": "e3676b26-21fd-4583-b5d6-95e1b33b4f45",
   "metadata": {},
   "outputs": [],
   "source": []
  }
 ],
 "metadata": {
  "kernelspec": {
   "display_name": "Python 3 (ipykernel)",
   "language": "python",
   "name": "python3"
  },
  "language_info": {
   "codemirror_mode": {
    "name": "ipython",
    "version": 3
   },
   "file_extension": ".py",
   "mimetype": "text/x-python",
   "name": "python",
   "nbconvert_exporter": "python",
   "pygments_lexer": "ipython3",
   "version": "3.9.12"
  }
 },
 "nbformat": 4,
 "nbformat_minor": 5
}
